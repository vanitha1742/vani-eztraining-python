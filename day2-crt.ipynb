{
 "cells": [
  {
   "cell_type": "code",
   "execution_count": 17,
   "id": "c1274f25",
   "metadata": {},
   "outputs": [
    {
     "name": "stdout",
     "output_type": "stream",
     "text": [
      "4\n",
      "14\n",
      "-11\n",
      "14\n"
     ]
    }
   ],
   "source": [
    "#bitwise operators\n",
    "print(12&7)\n",
    "print(10|4)\n",
    "print(~10)\n",
    "print(10^4)"
   ]
  },
  {
   "cell_type": "code",
   "execution_count": 22,
   "id": "2ac58f4a",
   "metadata": {},
   "outputs": [
    {
     "name": "stdout",
     "output_type": "stream",
     "text": [
      "E110\n",
      " E2 4\n",
      "0\n",
      "14\n",
      "-5\n",
      "14\n",
      "2\n",
      "40\n"
     ]
    }
   ],
   "source": [
    "#bitwise operators\n",
    "num1,num2=int(input(\"E1:\")),int(input(\" E2: \"))\n",
    "print(num1&num2)\n",
    "print(num1|num2)\n",
    "print(~num2)\n",
    "print(num1^num2)\n",
    "print(num1>>2)\n",
    "print(num1<<2)"
   ]
  },
  {
   "cell_type": "code",
   "execution_count": 60,
   "id": "3c0cadef",
   "metadata": {},
   "outputs": [
    {
     "name": "stdout",
     "output_type": "stream",
     "text": [
      "4\n",
      "1 2 3 5\n",
      "30\n"
     ]
    }
   ],
   "source": [
    "#product of numbers in the list\n",
    "n=int(input())\n",
    "m=1\n",
    "list1=list(map(int,input().split()))[:n]\n",
    "for i in range(0,len(list1)):\n",
    "    m=m*list1[i]\n",
    "print(m)\n"
   ]
  },
  {
   "cell_type": "code",
   "execution_count": 63,
   "id": "0d89be39",
   "metadata": {},
   "outputs": [
    {
     "name": "stdout",
     "output_type": "stream",
     "text": [
      "4 \n",
      "1 2 3 4\n",
      "1234"
     ]
    }
   ],
   "source": [
    "#displaying the elements of the list\n",
    "n=int(input())\n",
    "m=1\n",
    "list1=list(map(int,input().split()))[:n]\n",
    "for i in range(0,len(list1)):\n",
    "    print(list1[i],end=\" \")\n",
    "    "
   ]
  },
  {
   "cell_type": "code",
   "execution_count": 65,
   "id": "1e46d8a2",
   "metadata": {},
   "outputs": [
    {
     "name": "stdout",
     "output_type": "stream",
     "text": [
      "its a good day all * is * good joy\n"
     ]
    }
   ],
   "source": [
    "#use of sep and end\n",
    "print(\"its\",\"a\",\"good\",\"day\",end=\" \")\n",
    "print(\"all\",\"is\",\"good\",sep=\" * \",end=\" \")\n",
    "print(\"joy\")"
   ]
  },
  {
   "cell_type": "code",
   "execution_count": 74,
   "id": "212f424b",
   "metadata": {},
   "outputs": [
    {
     "name": "stdout",
     "output_type": "stream",
     "text": [
      "*******\n",
      " ***** \n",
      "  ***\n",
      "   * \n"
     ]
    }
   ],
   "source": [
    "#printing reverse star\n",
    "print(\"*******\")\n",
    "print(\" ***** \")\n",
    "print(\"  ***\")\n",
    "print(\"   * \")"
   ]
  },
  {
   "cell_type": "code",
   "execution_count": 80,
   "id": "cf01f998",
   "metadata": {},
   "outputs": [
    {
     "name": "stdout",
     "output_type": "stream",
     "text": [
      " * *    * * \n",
      "*   *  *   *\n",
      " *    *   *\n",
      "  *      *\n",
      "    *   *\n",
      "     * *\n",
      "      *\n"
     ]
    }
   ],
   "source": [
    "#printing heart shape\n",
    "print(\" * *    * * \")\n",
    "print(\"*   *  *   *\")\n",
    "print(\" *    *   *\")\n",
    "print(\"  *      *\")\n",
    "print(\"    *   *\")\n",
    "print(\"     * *\")\n",
    "print(\"      *\")\n"
   ]
  },
  {
   "cell_type": "code",
   "execution_count": 124,
   "id": "0bed7b0b",
   "metadata": {},
   "outputs": [
    {
     "name": "stdout",
     "output_type": "stream",
     "text": [
      "   * * * *  \n",
      "  * o   o *   \n",
      "  *   W   * \n",
      "   *     *\n",
      "   *  *  * \n",
      " *  * * *  *\n",
      "*  *   *  *  *\n",
      "#  *   *   *  #\n",
      "   * * * * *  \n",
      "   *       *\n",
      "    *#   #*\n",
      "\n"
     ]
    }
   ],
   "source": [
    "#printing doll\n",
    "print(\"   * * * *  \")\n",
    "print(\"  * o   o *   \")\n",
    "print(\"  *   W   * \")\n",
    "print(\"   *     *\")\n",
    "print(\"   *  *  * \")\n",
    "print(\" *  * * *  *\")\n",
    "print(\"*  *   *  *  *\")\n",
    "print(\"#  *   *   *  #\")\n",
    "print(\"   * * * * *  \")\n",
    "print(\"   *       *\")\n",
    "print(\"    *#   #*\")\n",
    "print(       )"
   ]
  },
  {
   "cell_type": "code",
   "execution_count": 141,
   "id": "5f70974b",
   "metadata": {},
   "outputs": [
    {
     "name": "stdout",
     "output_type": "stream",
     "text": [
      "   * * * *  \n",
      "  * o   o *   \n",
      "  *   W   * \n",
      "   *     *\n",
      "   *  *  * \n",
      "* * * * * * * *\n",
      "*  *       *  *\n",
      " *  *     *  * \n",
      "  ##******##  \n"
     ]
    }
   ],
   "source": [
    "#printing dog\n",
    "print(\"   * * * *  \")\n",
    "print(\"  * o   o *   \")\n",
    "print(\"  *   W   * \")\n",
    "print(\"   *     *\")\n",
    "print(\"   *  *  * \")\n",
    "print(\"* * * * * * * *\")\n",
    "print(\"*  *       *  *\")\n",
    "print(\" *  *     *  * \")\n",
    "print(\"  ##******##  \")\n"
   ]
  },
  {
   "cell_type": "code",
   "execution_count": 166,
   "id": "ac6c00be",
   "metadata": {},
   "outputs": [
    {
     "name": "stdout",
     "output_type": "stream",
     "text": [
      "Enter the number:501\n",
      "Given number is not a 500\n"
     ]
    }
   ],
   "source": [
    "#checking given number is 500 or not\n",
    "num=int(input(\"Enter the number:\"))\n",
    "if num==500:\n",
    "    print(\"given number is 500\")\n",
    "else:\n",
    "    print(\"Given number is not a 500\")"
   ]
  },
  {
   "cell_type": "code",
   "execution_count": 168,
   "id": "f9f3dcd8",
   "metadata": {},
   "outputs": [
    {
     "name": "stdout",
     "output_type": "stream",
     "text": [
      "Enter the number:541\n",
      "541  is Odd-positive\n"
     ]
    }
   ],
   "source": [
    "#check the given number and classify\n",
    "num=int(input(\"Enter the number:\"))\n",
    "if num%2==0:\n",
    "    if num>0:\n",
    "        print(num,\" is Even-positive\")\n",
    "    else:\n",
    "        print(num,\" is Even-Negative\")\n",
    "else:\n",
    "    if num>0:\n",
    "        print(num,\" is Odd-positive\")\n",
    "    else:\n",
    "        print(num,\" is Odd-Negative\")\n",
    "    "
   ]
  },
  {
   "cell_type": "code",
   "execution_count": 157,
   "id": "3ad8ff3e",
   "metadata": {},
   "outputs": [
    {
     "name": "stdout",
     "output_type": "stream",
     "text": [
      "Enter the first number:5\n",
      "Enter the second number:4\n",
      "5  is biggest\n"
     ]
    }
   ],
   "source": [
    "#check the greatest among the two\n",
    "num1=int(input(\"Enter the first number:\"))\n",
    "num2=int(input(\"Enter the second number:\"))\n",
    "if num1>num2:\n",
    "    print(num1,\" is biggest\")\n",
    "else:\n",
    "    print(num2,\" is biggest\")"
   ]
  },
  {
   "cell_type": "code",
   "execution_count": 175,
   "id": "ea6591a6",
   "metadata": {},
   "outputs": [
    {
     "name": "stdout",
     "output_type": "stream",
     "text": [
      "50  is integer\n"
     ]
    }
   ],
   "source": [
    "#check the given number is float or not\n",
    "num=50\n",
    "if(type(num)==int):\n",
    "    print(num,\" is integer\")\n",
    "if(type(num)==float):\n",
    "    print(num,\" is float\")\n"
   ]
  },
  {
   "cell_type": "code",
   "execution_count": null,
   "id": "b0360238",
   "metadata": {},
   "outputs": [],
   "source": [
    "#2nd method\n",
    "num=50\n",
    "if(num%1==0):\n",
    "    print(num,\" is integer\")\n",
    "else:\n",
    "    print(num,\" is float\")"
   ]
  },
  {
   "cell_type": "code",
   "execution_count": 172,
   "id": "ac70b8a7",
   "metadata": {},
   "outputs": [
    {
     "name": "stdout",
     "output_type": "stream",
     "text": [
      "Enter the first number:20\n",
      "Enter the second number:10\n",
      "Enter the third number:50\n",
      "50 i s greater\n"
     ]
    }
   ],
   "source": [
    "#find the greatest among the three\n",
    "num1=int(input(\"Enter the first number:\"))\n",
    "num2=int(input(\"Enter the second number:\"))\n",
    "num3=int(input(\"Enter the third number:\"))\n",
    "if num1>num2>num3 or num1>num3>num2:\n",
    "    print(num1,\"is greater\")\n",
    "elif num2>num1>num3 or num2>num3>num1:\n",
    "    print(num2,\"is greater\")\n",
    "else:\n",
    "    print(num3,\"is greater\")\n",
    "    \n",
    "    \n"
   ]
  },
  {
   "cell_type": "code",
   "execution_count": 173,
   "id": "6b026f3f",
   "metadata": {},
   "outputs": [
    {
     "name": "stdout",
     "output_type": "stream",
     "text": [
      "Enter the number:132\n",
      "132  is Divisible by 11\n"
     ]
    }
   ],
   "source": [
    "# check if a number is disible by 11 or not\n",
    "num=int(input(\"Enter the number:\"))\n",
    "if num%11==0:\n",
    "    print(num,\" is Divisible by 11\")\n",
    "else:\n",
    "    print(num,\" is Not Divisible by 11\")"
   ]
  },
  {
   "cell_type": "code",
   "execution_count": 174,
   "id": "6713cb87",
   "metadata": {},
   "outputs": [
    {
     "name": "stdout",
     "output_type": "stream",
     "text": [
      "Enter the number:100\n",
      "100  is Divisible by 2 and 5\n"
     ]
    }
   ],
   "source": [
    "# check if a number is disible by 2 & 5\n",
    "num=int(input(\"Enter the number:\"))\n",
    "if num%2==0 and num%5==0:\n",
    "    print(num,\" is Divisible by 2 and 5\")\n",
    "else:\n",
    "    print(num,\" is Not Divisible \")"
   ]
  },
  {
   "cell_type": "code",
   "execution_count": 189,
   "id": "eb83b865",
   "metadata": {},
   "outputs": [
    {
     "name": "stdout",
     "output_type": "stream",
     "text": [
      "Enter the number:14541\n",
      "palindrome\n"
     ]
    }
   ],
   "source": [
    "num=int(input(\"Enter the number:\"))\n",
    "string=str(num)\n",
    "if string[::-1]==string:\n",
    "    print(\"palindrome\")\n",
    "else:\n",
    "    print(\"not a palindrome\")"
   ]
  },
  {
   "cell_type": "code",
   "execution_count": 1,
   "id": "31622956",
   "metadata": {},
   "outputs": [
    {
     "name": "stdout",
     "output_type": "stream",
     "text": [
      "[2, 4, 6, 8, 10]\n",
      "[1, 3, 5, 7, 9]\n"
     ]
    }
   ],
   "source": [
    "#printing numbers accoording to even or odd\n",
    "even=[]\n",
    "odd=[]\n",
    "for i in range(1,11):\n",
    "    if i%2==0:\n",
    "        even.append(i)\n",
    "    else:\n",
    "        odd.append(i)\n",
    "print(even)\n",
    "print(odd)\n",
    "    "
   ]
  },
  {
   "cell_type": "code",
   "execution_count": null,
   "id": "60453153",
   "metadata": {},
   "outputs": [],
   "source": []
  }
 ],
 "metadata": {
  "kernelspec": {
   "display_name": "Python 3 (ipykernel)",
   "language": "python",
   "name": "python3"
  },
  "language_info": {
   "codemirror_mode": {
    "name": "ipython",
    "version": 3
   },
   "file_extension": ".py",
   "mimetype": "text/x-python",
   "name": "python",
   "nbconvert_exporter": "python",
   "pygments_lexer": "ipython3",
   "version": "3.9.7"
  }
 },
 "nbformat": 4,
 "nbformat_minor": 5
}
