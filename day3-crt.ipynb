{
 "cells": [
  {
   "cell_type": "code",
   "execution_count": 15,
   "id": "a39e2411",
   "metadata": {},
   "outputs": [
    {
     "data": {
      "text/plain": [
       "[1, 2, 1.2, 'vani']"
      ]
     },
     "execution_count": 15,
     "metadata": {},
     "output_type": "execute_result"
    }
   ],
   "source": [
    "L=[1,2,1.2,\"vani\"]\n",
    "L"
   ]
  },
  {
   "cell_type": "code",
   "execution_count": 16,
   "id": "e0d70492",
   "metadata": {},
   "outputs": [
    {
     "data": {
      "text/plain": [
       "[]"
      ]
     },
     "execution_count": 16,
     "metadata": {},
     "output_type": "execute_result"
    }
   ],
   "source": [
    "L[5:6]"
   ]
  },
  {
   "cell_type": "code",
   "execution_count": 19,
   "id": "be83010b",
   "metadata": {},
   "outputs": [
    {
     "data": {
      "text/plain": [
       "['vani']"
      ]
     },
     "execution_count": 19,
     "metadata": {},
     "output_type": "execute_result"
    }
   ],
   "source": [
    "L[5:5:1]\n",
    "L[-1::]"
   ]
  },
  {
   "cell_type": "code",
   "execution_count": 20,
   "id": "f791e1aa",
   "metadata": {},
   "outputs": [
    {
     "data": {
      "text/plain": [
       "['vani', 1.2, 2, 1]"
      ]
     },
     "execution_count": 20,
     "metadata": {},
     "output_type": "execute_result"
    }
   ],
   "source": [
    "L[::-1]\n"
   ]
  },
  {
   "cell_type": "code",
   "execution_count": 22,
   "id": "48069581",
   "metadata": {},
   "outputs": [
    {
     "data": {
      "text/plain": [
       "[1, 2, 1.2, 'vani', 100, 100]"
      ]
     },
     "execution_count": 22,
     "metadata": {},
     "output_type": "execute_result"
    }
   ],
   "source": [
    "L.append(100)\n",
    "L"
   ]
  },
  {
   "cell_type": "code",
   "execution_count": 24,
   "id": "621586f9",
   "metadata": {},
   "outputs": [
    {
     "data": {
      "text/plain": [
       "[1, 2, 1.2, 'vani', 100, 100]"
      ]
     },
     "execution_count": 24,
     "metadata": {},
     "output_type": "execute_result"
    }
   ],
   "source": [
    "L.reverse()\n",
    "L"
   ]
  },
  {
   "cell_type": "code",
   "execution_count": 40,
   "id": "45d5927c",
   "metadata": {},
   "outputs": [
    {
     "data": {
      "text/plain": [
       "[1, 2, 3, 4, 5, 6, 7, 8, 9]"
      ]
     },
     "execution_count": 40,
     "metadata": {},
     "output_type": "execute_result"
    }
   ],
   "source": [
    "l=[]\n",
    "for i in range(1,10):\n",
    "    l.append(i)\n",
    "l\n"
   ]
  },
  {
   "cell_type": "code",
   "execution_count": 31,
   "id": "8fb30b5b",
   "metadata": {},
   "outputs": [
    {
     "name": "stdout",
     "output_type": "stream",
     "text": [
      "enter the i integer:3\n",
      "enter the i integer:1\n",
      "enter the i integer:2\n",
      "enter the i integer:5\n",
      "enter the i integer:4\n",
      "enter the i integer:4\n"
     ]
    },
    {
     "data": {
      "text/plain": [
       "[3, 1, 2, 5, 4, 4]"
      ]
     },
     "execution_count": 31,
     "metadata": {},
     "output_type": "execute_result"
    }
   ],
   "source": [
    "b=[]\n",
    "for i in range(6):\n",
    "    int1=int(input(\"enter the i integer:\"))\n",
    "    b.append(int1)\n",
    "b"
   ]
  },
  {
   "cell_type": "code",
   "execution_count": 44,
   "id": "c55364b5",
   "metadata": {},
   "outputs": [
    {
     "name": "stdout",
     "output_type": "stream",
     "text": [
      "2\n",
      "4\n",
      "4\n"
     ]
    }
   ],
   "source": [
    "for i in b:\n",
    "    if(i%2==0):\n",
    "        print(i)\n"
   ]
  },
  {
   "cell_type": "code",
   "execution_count": 28,
   "id": "57995324",
   "metadata": {},
   "outputs": [
    {
     "name": "stdout",
     "output_type": "stream",
     "text": [
      "enter the how many integers:3\n",
      "enter the integer:4\n",
      "enter the integer:5\n",
      "enter the integer:6\n",
      "120\n"
     ]
    }
   ],
   "source": [
    "d=[]\n",
    "g=1\n",
    "sum=0\n",
    "n=int(input(\"enter the how many integers:\"))\n",
    "for i in range(n):\n",
    "    int1=int(input(\"enter the integer:\"))\n",
    "    d.append(int1)\n",
    "for i in d:\n",
    "    \n",
    "    g=g*i\n",
    "for i in d:\n",
    "    sum =sum + i\n",
    "       \n",
    "if g<=750:\n",
    "    print(g)\n",
    "else:\n",
    "    print(sum)\n"
   ]
  },
  {
   "cell_type": "code",
   "execution_count": 10,
   "id": "8adc27a6",
   "metadata": {},
   "outputs": [
    {
     "name": "stdout",
     "output_type": "stream",
     "text": [
      "['g', 'r', 'e', 'a', 't', ' ', 'a', 'f', 't', 'e', 'r', 'n', 'o', 'o', 'n']\n"
     ]
    }
   ],
   "source": [
    "\"\"\"list comprehension\"\"\"\n",
    "numbers=[elements for elements in \"great afternoon\"]\n",
    "print(numbers) "
   ]
  },
  {
   "cell_type": "code",
   "execution_count": 11,
   "id": "930a7e78",
   "metadata": {},
   "outputs": [
    {
     "name": "stdout",
     "output_type": "stream",
     "text": [
      "['vizag', 'vijayawada']\n"
     ]
    }
   ],
   "source": [
    "#can create list using existing list \n",
    "L=[\"hyd\",\"vizag\" , \"chennai\" , \"vijayawada\"]\n",
    "city=[]\n",
    "for n in L:\n",
    "   if \"v\" in n:\n",
    "      city.append(n)\n",
    "print(city)"
   ]
  },
  {
   "cell_type": "code",
   "execution_count": 12,
   "id": "4ec1be84",
   "metadata": {},
   "outputs": [
    {
     "name": "stdout",
     "output_type": "stream",
     "text": [
      "[4, 8, 16, 32, 64, 128, 256, 512]\n",
      "[100, 120, 140, 160, 180, 200]\n",
      "[1, 2, 3, 4]\n"
     ]
    }
   ],
   "source": [
    "L1=[2**x for x in range(2,10)]\n",
    "print(L1)\n",
    "L2=[a for a in range(100,201,20)]\n",
    "print(L2)\n",
    "L3=[1,2,3,4,5,6]\n",
    "L4=[i for i in L3 if (i<5)]\n",
    "print(L4)"
   ]
  },
  {
   "cell_type": "code",
   "execution_count": 13,
   "id": "b93dbfdd",
   "metadata": {},
   "outputs": [
    {
     "name": "stdout",
     "output_type": "stream",
     "text": [
      "{1, 2}\n"
     ]
    }
   ],
   "source": [
    "\"\"\"SET--\"\"\"\n",
    "ss={1,1,1,1,2,2,2}\n",
    "print(ss)\n"
   ]
  },
  {
   "cell_type": "code",
   "execution_count": null,
   "id": "65f21416",
   "metadata": {},
   "outputs": [],
   "source": [
    "\"\"\"-- ss.add()-- add one value\n",
    "   -- ss.update()-- add multiple values\n",
    "   -- ss.discard()--gives no error if element is not present\n",
    "   -- ss.remove()-- gives error if element is not present\n",
    "   union--(s1|s2) \n",
    "   intersect--(s1&s2)\n",
    "   difference-- (s1-s2)\"\"\"\n"
   ]
  },
  {
   "cell_type": "code",
   "execution_count": 53,
   "id": "536af8d8",
   "metadata": {},
   "outputs": [
    {
     "name": "stdout",
     "output_type": "stream",
     "text": [
      "{'a': 'hai', 'b': 'vani'}\n",
      "dict_keys(['a', 'b'])\n",
      "dict_values(['hai', 'vani'])\n",
      "hai\n",
      "hai\n"
     ]
    }
   ],
   "source": [
    "d={\"a\":\"hai\",\"b\":\"vani\"}\n",
    "print(d)\n",
    "print(d.keys())\n",
    "print(d.values())\n",
    "print(d[\"a\"])\n",
    "print(d.get(\"a\"))\n"
   ]
  },
  {
   "cell_type": "code",
   "execution_count": 58,
   "id": "af9c2df7",
   "metadata": {},
   "outputs": [
    {
     "name": "stdout",
     "output_type": "stream",
     "text": [
      "{'a': None, 'b': None}\n",
      "{'a': 100, 'b': 100}\n",
      "{'a': 50, 'b': 50}\n"
     ]
    }
   ],
   "source": [
    "l=[\"a\",\"b\"]\n",
    "print(dict.fromkeys(l))\n",
    "print({}.fromkeys(l,100))\n",
    "print(dict.fromkeys(l,50))"
   ]
  },
  {
   "cell_type": "code",
   "execution_count": null,
   "id": "0a5d7de2",
   "metadata": {},
   "outputs": [],
   "source": []
  }
 ],
 "metadata": {
  "kernelspec": {
   "display_name": "Python 3 (ipykernel)",
   "language": "python",
   "name": "python3"
  },
  "language_info": {
   "codemirror_mode": {
    "name": "ipython",
    "version": 3
   },
   "file_extension": ".py",
   "mimetype": "text/x-python",
   "name": "python",
   "nbconvert_exporter": "python",
   "pygments_lexer": "ipython3",
   "version": "3.9.7"
  }
 },
 "nbformat": 4,
 "nbformat_minor": 5
}
