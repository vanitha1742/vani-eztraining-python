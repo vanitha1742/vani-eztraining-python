{
 "cells": [
  {
   "cell_type": "code",
   "execution_count": 1,
   "id": "3f301b86",
   "metadata": {},
   "outputs": [
    {
     "name": "stdout",
     "output_type": "stream",
     "text": [
      "enter the 1st integer:5\n",
      "enter the 2nd integer:6\n",
      "enter the 3rd integer:4\n",
      "            \n",
      "enter the 1st floating number:1.0\n",
      "enter the 2nd floating number:2.0\n",
      "enter the 3rd floating number:3.0\n",
      "            \n",
      "enter the 1st string:a\n",
      "enter the 2nd string:v\n",
      "            \n",
      "enter the complex number:3+5j\n",
      "First Integer: 5\n",
      "second Integer: 6\n",
      "third Integer: 4\n",
      "     \n",
      "First float: 1.0\n",
      "second float: 2.0\n",
      "third float: 3.0\n",
      "       \n",
      "first string:a\n",
      "second string:v\n",
      "    \n",
      "complex: (3+5j)\n"
     ]
    }
   ],
   "source": [
    "int1=int(input(\"enter the 1st integer:\"))\n",
    "int2=int(input(\"enter the 2nd integer:\"))\n",
    "int3=int(input(\"enter the 3rd integer:\"))\n",
    "print(\"            \")\n",
    "float1=float(input(\"enter the 1st floating number:\"))\n",
    "float2=float(input(\"enter the 2nd floating number:\"))\n",
    "float3=float(input(\"enter the 3rd floating number:\"))\n",
    "print(\"            \")\n",
    "str1=(input(\"enter the 1st string:\"))\n",
    "str2=(input(\"enter the 2nd string:\"))\n",
    "print(\"            \")\n",
    "complex1=complex(input(\"enter the complex number:\"))\n",
    "\n",
    "print(\"First Integer:\",int1)\n",
    "print(\"second Integer:\",int2)\n",
    "print(\"third Integer:\",int3)\n",
    "print(\"     \")\n",
    "print(\"First float:\",float1)\n",
    "print(\"second float:\",float2)\n",
    "print(\"third float:\",float3)\n",
    "print(\"       \")\n",
    "print(\"first string:\"+str1)\n",
    "print(\"second string:\"+str2)\n",
    "print(\"    \")\n",
    "print(\"complex:\",complex1)\n"
   ]
  },
  {
   "cell_type": "code",
   "execution_count": 94,
   "id": "28c57367",
   "metadata": {},
   "outputs": [
    {
     "name": "stdout",
     "output_type": "stream",
     "text": [
      "enter the complex:5+9j\n",
      "(5+9j)\n",
      "<class 'complex'>\n"
     ]
    }
   ],
   "source": [
    "s=eval(input(\"enter the complex:\"))\n",
    "print(s)\n",
    "print(type(s))"
   ]
  },
  {
   "cell_type": "code",
   "execution_count": 19,
   "id": "d2c471bb",
   "metadata": {},
   "outputs": [
    {
     "name": "stdout",
     "output_type": "stream",
     "text": [
      "enter sugar candy with kumar in kgs:75\n",
      "the remaining sugar candy with kumar is 56.25\n",
      "the remaining sugar candy with sam is 18.75\n"
     ]
    }
   ],
   "source": [
    "#1st program\n",
    "\"\"\"kumar is buying 75 kgs of sugar candy and half of it he gives to his friend Sam.\n",
    "Sam returns to kumar half of it what he got.how much does kumar and sam have\"\"\"\n",
    "kumar=int(input(\"enter sugar candy with kumar in kgs:\"))\n",
    "sam=kumar/2\n",
    "kuma=sam+(sam/2)\n",
    "print(\"the remaining sugar candy with kumar is\",kuma)\n",
    "sam=kumar-kuma\n",
    "print(\"the remaining sugar candy with sam is\",sam)"
   ]
  },
  {
   "cell_type": "code",
   "execution_count": 12,
   "id": "99280c34",
   "metadata": {},
   "outputs": [
    {
     "name": "stdout",
     "output_type": "stream",
     "text": [
      "155.15\n"
     ]
    }
   ],
   "source": [
    "#2nd program\n",
    "\"\"\"with three times of 36.32 u have to add 56.19 and subtract 10 from the total and print the result\"\"\"\n",
    "res=(3*36.32)+56.19-10\n",
    "print(res)"
   ]
  },
  {
   "cell_type": "code",
   "execution_count": 18,
   "id": "458b8542",
   "metadata": {},
   "outputs": [
    {
     "name": "stdout",
     "output_type": "stream",
     "text": [
      "-22.5\n"
     ]
    }
   ],
   "source": [
    "#3rd program\n",
    "\"\"\"multiply one positive number with one negative floting number and print the output\"\"\"\n",
    "result=5*-4.5\n",
    "print(result)"
   ]
  },
  {
   "cell_type": "code",
   "execution_count": 25,
   "id": "5f3d9fbd",
   "metadata": {},
   "outputs": [
    {
     "name": "stdout",
     "output_type": "stream",
     "text": [
      "ENTER:153\n",
      "Armstrong\n"
     ]
    }
   ],
   "source": [
    "#4th program\n",
    "\"\"\"Write a program in Python to check whether an integer is Armstrong number or not.\"\"\"\n",
    "num=int(input(\"ENTER:\"))\n",
    "l=len(str(num))\n",
    "n=0\n",
    "temp=num\n",
    "for i in range(0,l):\n",
    "    rem=num%10\n",
    "    n=n+rem**l\n",
    "    num=num//10\n",
    "if n==temp:\n",
    "    print(\"Armstrong\")\n",
    "\n"
   ]
  },
  {
   "cell_type": "code",
   "execution_count": 83,
   "id": "88eabd4e",
   "metadata": {},
   "outputs": [
    {
     "name": "stdout",
     "output_type": "stream",
     "text": [
      "ENTER:17\n",
      "not\n"
     ]
    }
   ],
   "source": [
    "#5th program\n",
    "\"\"\" Write a program in Python to check given number is prime or not.\"\"\"\n",
    "num=int(input(\"ENTER:\"))\n",
    "temp=0\n",
    "for i in range(2,num-1):\n",
    "    if num%i==0:\n",
    "        temp=1\n",
    "        \n",
    "        break\n",
    "if temp==1:\n",
    "    print(\"prime\")\n",
    "    \n",
    "else:\n",
    "    print(\"not\")\n"
   ]
  },
  {
   "cell_type": "code",
   "execution_count": 95,
   "id": "c25400e9",
   "metadata": {},
   "outputs": [
    {
     "name": "stdout",
     "output_type": "stream",
     "text": [
      "2.0\n",
      "2\n",
      "2\n",
      "True\n",
      "True\n",
      "False\n",
      "True\n",
      "True\n",
      "True\n"
     ]
    }
   ],
   "source": [
    "print(10/5)\n",
    "print(10//5)\n",
    "print(12%5)\n",
    "print(10!=2)\n",
    "print(10==10)\n",
    "print(10>32)\n",
    "print(10<32)\n",
    "print(10>1 and 10>5)\n",
    "print(10>1 or 10>5)\n",
    "\n"
   ]
  },
  {
   "cell_type": "code",
   "execution_count": 73,
   "id": "e6d263e8",
   "metadata": {},
   "outputs": [
    {
     "name": "stdout",
     "output_type": "stream",
     "text": [
      " Enter4,5\n",
      "<class 'str'>\n"
     ]
    }
   ],
   "source": [
    "x,y=(input(\" Enter\").split(\",\"))\n",
    "print(type(x))"
   ]
  },
  {
   "cell_type": "code",
   "execution_count": 74,
   "id": "42860736",
   "metadata": {},
   "outputs": [
    {
     "name": "stdout",
     "output_type": "stream",
     "text": [
      "4 5\n"
     ]
    }
   ],
   "source": [
    "x,y=list(map(int,input().split()))"
   ]
  },
  {
   "cell_type": "code",
   "execution_count": 103,
   "id": "e1599a8c",
   "metadata": {},
   "outputs": [
    {
     "name": "stdout",
     "output_type": "stream",
     "text": [
      "10\n",
      "0  1  1  2  3  5  8  13  21  34  "
     ]
    }
   ],
   "source": [
    "#6th program\n",
    "\"\"\" Write a program in Python to print the Fibonacci series using iterative method\"\"\"\n",
    "n=int(input())\n",
    "a=0\n",
    "b=1\n",
    "for i in range(1,n+1):\n",
    "    m=a+b\n",
    "    print(a,end=\"  \")\n",
    "    a=b\n",
    "    b=m\n",
    "    \n"
   ]
  },
  {
   "cell_type": "code",
   "execution_count": 88,
   "id": "5d1f0bbe",
   "metadata": {},
   "outputs": [
    {
     "name": "stdout",
     "output_type": "stream",
     "text": [
      "10 5\n"
     ]
    }
   ],
   "source": [
    "#7th program\n",
    "\"\"\" swap two numbers with temp variable\"\"\"\n",
    "a=5\n",
    "b=10\n",
    "temp=a\n",
    "a=b\n",
    "b=temp\n",
    "print(a,b)"
   ]
  },
  {
   "cell_type": "code",
   "execution_count": 89,
   "id": "b24d8a10",
   "metadata": {},
   "outputs": [
    {
     "name": "stdout",
     "output_type": "stream",
     "text": [
      "10 5\n"
     ]
    }
   ],
   "source": [
    "#8th program\n",
    "\"\"\" swap two numbers without temp variable\"\"\"\n",
    "a=5\n",
    "b=10\n",
    "a=a+b\n",
    "b=a-b\n",
    "a=a-b\n",
    "print(a,b)"
   ]
  },
  {
   "cell_type": "code",
   "execution_count": 90,
   "id": "45e3c26e",
   "metadata": {},
   "outputs": [
    {
     "name": "stdout",
     "output_type": "stream",
     "text": [
      "200\n"
     ]
    }
   ],
   "source": [
    "#9th program\n",
    "\"\"\" Area of a rectangle\"\"\"\n",
    "rectl=10\n",
    "rectb=20\n",
    "print(rectl*rectb)"
   ]
  },
  {
   "cell_type": "code",
   "execution_count": 91,
   "id": "53efbc7b",
   "metadata": {},
   "outputs": [
    {
     "name": "stdout",
     "output_type": "stream",
     "text": [
      "60\n"
     ]
    }
   ],
   "source": [
    "#10th program\n",
    "\"\"\"perimeter of a rectangle\"\"\"\n",
    "rectl=10\n",
    "rectb=20\n",
    "print(2*(rectl+rectb))"
   ]
  },
  {
   "cell_type": "code",
   "execution_count": 107,
   "id": "4906a1d8",
   "metadata": {},
   "outputs": [
    {
     "name": "stdout",
     "output_type": "stream",
     "text": [
      "Enter the number:45612\n",
      "not a palindrome\n"
     ]
    }
   ],
   "source": [
    "#11th program\n",
    "\"\"\" Write a program in Python to check whether a number is palindrome or not using iterative method.\"\"\"\n",
    "num=int(input(\"Enter the number:\"))\n",
    "string=str(num)\n",
    "if string[::-1]==string:\n",
    "    print(\"palindrome\")\n",
    "else:\n",
    "    print(\"not a palindrome\")"
   ]
  },
  {
   "cell_type": "code",
   "execution_count": 110,
   "id": "0ef1cb73",
   "metadata": {},
   "outputs": [
    {
     "name": "stdout",
     "output_type": "stream",
     "text": [
      "Enter the number:123\n",
      "6\n"
     ]
    }
   ],
   "source": [
    "#12th program\n",
    "\"\"\" Write a program in Python to find sum of digits of a number\"\"\"\n",
    "num=int(input(\"Enter the number:\"))\n",
    "sum=0\n",
    "for i in range(1,len(str(num))+1):\n",
    "    rem=num%10\n",
    "    sum=sum+rem\n",
    "    num=num//10\n",
    "print(sum)"
   ]
  },
  {
   "cell_type": "code",
   "execution_count": null,
   "id": "84e0f2de",
   "metadata": {},
   "outputs": [],
   "source": [
    "#13th program\n",
    "\"\"\" Python Program to calculate factorial \"\"\"\n",
    "num=int(input(\"Enter the number:\"))\n",
    "for i in range()\n"
   ]
  },
  {
   "cell_type": "code",
   "execution_count": null,
   "id": "f7e44830",
   "metadata": {},
   "outputs": [],
   "source": [
    "#14th program\n"
   ]
  }
 ],
 "metadata": {
  "kernelspec": {
   "display_name": "Python 3 (ipykernel)",
   "language": "python",
   "name": "python3"
  },
  "language_info": {
   "codemirror_mode": {
    "name": "ipython",
    "version": 3
   },
   "file_extension": ".py",
   "mimetype": "text/x-python",
   "name": "python",
   "nbconvert_exporter": "python",
   "pygments_lexer": "ipython3",
   "version": "3.9.7"
  }
 },
 "nbformat": 4,
 "nbformat_minor": 5
}
